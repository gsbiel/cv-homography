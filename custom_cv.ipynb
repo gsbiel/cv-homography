{
  "nbformat": 4,
  "nbformat_minor": 0,
  "metadata": {
    "colab": {
      "name": "custom_cv.ipynb",
      "provenance": [],
      "collapsed_sections": [],
      "authorship_tag": "ABX9TyOJb8N+OwBwbR5mMiFjn2RU",
      "include_colab_link": true
    },
    "kernelspec": {
      "name": "python3",
      "display_name": "Python 3"
    }
  },
  "cells": [
    {
      "cell_type": "markdown",
      "metadata": {
        "id": "view-in-github",
        "colab_type": "text"
      },
      "source": [
        "<a href=\"https://colab.research.google.com/github/gsbiel/cv-homography/blob/main/custom_cv.ipynb\" target=\"_parent\"><img src=\"https://colab.research.google.com/assets/colab-badge.svg\" alt=\"Open In Colab\"/></a>"
      ]
    },
    {
      "cell_type": "markdown",
      "metadata": {
        "id": "wsPQOFpI4efc"
      },
      "source": [
        "# **Computer Vision Assignment - 2**\n",
        "\n",
        "Students: \n",
        "- Gabriel Silva Gaspar; \n",
        "- Sara Sampaio Gomes do Nascimento."
      ]
    },
    {
      "cell_type": "code",
      "metadata": {
        "id": "5wwRdNVanE_A"
      },
      "source": [
        "def hello():\n",
        "  return \"hello from custom_cv!\" \n"
      ],
      "execution_count": 2,
      "outputs": []
    }
  ]
}